{
 "metadata": {
  "language_info": {
   "codemirror_mode": {
    "name": "ipython",
    "version": 3
   },
   "file_extension": ".py",
   "mimetype": "text/x-python",
   "name": "python",
   "nbconvert_exporter": "python",
   "pygments_lexer": "ipython3",
   "version": "3.8.5"
  },
  "orig_nbformat": 2,
  "kernelspec": {
   "name": "python385jvsc74a57bd03f800561dde6209f0c647b1ec24b295364b37801e2a63d392a491285ef4d5a88",
   "display_name": "Python 3.8.5 64-bit ('base': conda)"
  }
 },
 "nbformat": 4,
 "nbformat_minor": 2,
 "cells": [
  {
   "cell_type": "code",
   "execution_count": 7,
   "metadata": {},
   "outputs": [],
   "source": [
    "import numpy as np \n",
    "\n",
    "\n",
    "#se crea para comenzar la clase perceptron \n",
    "\n",
    "class Perceptron():\n",
    "    def __init__(self,inputs, weights):\n",
    "        #TODO\n",
    "        self.inputs = np.array(inputs) \n",
    "        self.weights = np.array(weights)\n",
    "\n",
    "    def decide (self, treshold):\n",
    "        return (self.inputs @ self.weights) >= treshold\n"
   ]
  },
  {
   "cell_type": "code",
   "execution_count": 8,
   "metadata": {},
   "outputs": [
    {
     "output_type": "stream",
     "name": "stdout",
     "text": [
      "\n",
      "\n",
      "\n"
     ]
    }
   ],
   "source": [
    "# Ahora necesitamos darle sus entradas y pesos asociados\n",
    "inputs, weights = [], []\n",
    "\n",
    "preguntas = [\n",
    "    \"· ¿Cuál es la velocidad? \",\n",
    "    \"· ¿Ritmo cardiaco? \",\n",
    "    \"· ¿Respiración? \"\n",
    "]\n",
    "\n",
    "for pregunta in preguntas:\n",
    "    i = int(input(pregunta))\n",
    "    w = int(input(\"· Y su peso asociado es... \"))\n",
    "    inputs.append(i)\n",
    "    weights.append(w)\n",
    "    print()\n",
    "\n",
    "treshold = int(input(\"· Y nuestro umbral/límite será: \"))"
   ]
  },
  {
   "cell_type": "code",
   "execution_count": 9,
   "metadata": {},
   "outputs": [
    {
     "output_type": "execute_result",
     "data": {
      "text/plain": [
       "False"
      ]
     },
     "metadata": {},
     "execution_count": 9
    }
   ],
   "source": [
    "p = Perceptron(inputs, weights)\n",
    "p.decide(treshold)"
   ]
  },
  {
   "cell_type": "code",
   "execution_count": 10,
   "metadata": {},
   "outputs": [],
   "source": [
    "# Se modifica para añadir la funcion de activación \n",
    "\n",
    "class SigmoidNeuron():\n",
    "    def __init__(self, inputs, weights):\n",
    "        self.inputs = np.array(inputs)\n",
    "        self.weights = np.array(weights)\n",
    "\n",
    "    def decide (self, bias):\n",
    "        z = (self.weights @ self.inputs) + bias \n",
    "        return 1. / (1. + np.exp(-z))"
   ]
  },
  {
   "cell_type": "code",
   "execution_count": 11,
   "metadata": {},
   "outputs": [
    {
     "output_type": "execute_result",
     "data": {
      "text/plain": [
       "0.2689414213699951"
      ]
     },
     "metadata": {},
     "execution_count": 11
    }
   ],
   "source": [
    "bias = int(input(\". El nuevo bias será: \"))\n",
    "s = SigmoidNeuron(inputs, weights)\n",
    "s.decide(bias)"
   ]
  },
  {
   "cell_type": "code",
   "execution_count": null,
   "metadata": {},
   "outputs": [],
   "source": []
  }
 ]
}